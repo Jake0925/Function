{
 "cells": [
  {
   "cell_type": "markdown",
   "metadata": {},
   "source": [
    "참고: https://deep-learning-study.tistory.com/110"
   ]
  },
  {
   "cell_type": "code",
   "execution_count": 1,
   "metadata": {},
   "outputs": [
    {
     "name": "stdout",
     "output_type": "stream",
     "text": [
      "EVENT_LBUTTONDOWN: 70, 180\n",
      "EVENT_LBUTTONUP: 321, 295\n",
      "EVENT_LBUTTONDOWN: 186, 201\n",
      "EVENT_LBUTTONUP: 212, 282\n",
      "EVENT_LBUTTONDOWN: 305, 70\n",
      "EVENT_LBUTTONUP: 459, 73\n"
     ]
    }
   ],
   "source": [
    "import sys\n",
    "import numpy as np\n",
    "import cv2\n",
    "\n",
    "\n",
    "oldx = oldy = -1 # 좌표 기본값 설정\n",
    "\n",
    "# 내가 만든 마우스 함수를 실행시켜줘\n",
    "\n",
    "\n",
    "def on_mouse(event, x, y, flags, param):\n",
    "    # event는 마우스 동작 상수값, 클릭, 이동 등등\n",
    "    # x, y는 내가 띄운 창을 기준으로 좌측 상단점이 0,0이 됌\n",
    "    # flags는 마우스 이벤트가 발생할 때 키보드 또는 마우스 상태를 의미, Shif+마우스 등 설정가능\n",
    "    # param은 영상이룻도 있도 전달하고 싶은 데이타, 안쓰더라도 넣어줘야함\n",
    "\n",
    "    global oldx, oldy # 밖에 있는 oldx, oldy 불러옴\n",
    "\n",
    "    if event == cv2.EVENT_LBUTTONDOWN: # 왼쪽이 눌러지면 실행\n",
    "        oldx, oldy = x, y # 마우스가 눌렀을 때 좌표 저장, 띄워진 영상에서의 좌측 상단 기준\n",
    "        print('EVENT_LBUTTONDOWN: %d, %d' % (x, y)) # 좌표 출력\n",
    "\n",
    "    elif event == cv2.EVENT_LBUTTONUP: # 마우스 뗏을때 발생\n",
    "        print('EVENT_LBUTTONUP: %d, %d' % (x, y)) # 좌표 출력\n",
    "\n",
    "    elif event == cv2.EVENT_MOUSEMOVE: # 마우스가 움직일 때 발생\n",
    "        if flags & cv2.EVENT_FLAG_LBUTTON: # ==를 쓰면 다른 키도 입력되었을 때 작동안하므로 &(and) 사용\n",
    "            # cv2.circle(img, (x, y), 5, (0, 255, 0), -1) # 단점이 빠르게 움직이면 끊김\n",
    "\n",
    "            # circle은 끊기므로 line 이용\n",
    "            # 마우스 클릭한 좌표에서 시작해서 마우스 좌표까지 그림\n",
    "            cv2.line(img, (oldx, oldy), (x, y), (0, 0, 255), 4, cv2.LINE_AA)\n",
    "            cv2.imshow('image', img)\n",
    "            oldx, oldy = x, y # 그림을 그리고 또 좌표 저장\n",
    "\n",
    "\n",
    "# 흰색 컬러 영상 생성\n",
    "img = np.ones((480, 640, 3), dtype=np.uint8) * 255\n",
    "\n",
    "# 윈도우 창\n",
    "cv2.namedWindow('image')\n",
    "\n",
    "# 마우스 입력, namedWIndow or imshow가 실행되어 창이 떠있는 상태에서만 사용가능\n",
    "# 마우스 이벤트가 발생하면 on_mouse 함수 실행\n",
    "cv2.setMouseCallback('image', on_mouse, img)\n",
    "\n",
    "\n",
    "# 영상 출력\n",
    "cv2.imshow('image', img)\n",
    "cv2.waitKey()\n",
    "\n",
    "cv2.destroyAllWindows()"
   ]
  },
  {
   "cell_type": "code",
   "execution_count": null,
   "metadata": {},
   "outputs": [],
   "source": []
  }
 ],
 "metadata": {
  "kernelspec": {
   "display_name": "Python 3",
   "language": "python",
   "name": "python3"
  },
  "language_info": {
   "codemirror_mode": {
    "name": "ipython",
    "version": 3
   },
   "file_extension": ".py",
   "mimetype": "text/x-python",
   "name": "python",
   "nbconvert_exporter": "python",
   "pygments_lexer": "ipython3",
   "version": "3.8.5"
  }
 },
 "nbformat": 4,
 "nbformat_minor": 4
}
