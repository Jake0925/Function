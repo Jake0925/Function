{
 "cells": [
  {
   "cell_type": "code",
   "execution_count": 6,
   "metadata": {
    "scrolled": false
   },
   "outputs": [],
   "source": [
    "import os\n",
    "file_list = os.listdir(r'C:\\tensorflow1\\models\\research\\object_detection\\images\\Image')\n",
    "file_list_com = os.listdir(r'C:\\tensorflow1\\models\\research\\object_detection\\images\\label')\n",
    "\n",
    "\n",
    "file_name = []\n",
    "for file in file_list:\n",
    "    name = file.split('.')[0]\n",
    "    file_name.append(name)\n",
    "    \n",
    "    \n",
    "file_name_com = []\n",
    "for file in file_list_com:\n",
    "    name = file.split('.')[0]\n",
    "    file_name_com.append(name)\n",
    "    \n"
   ]
  },
  {
   "cell_type": "code",
   "execution_count": 14,
   "metadata": {},
   "outputs": [
    {
     "name": "stdout",
     "output_type": "stream",
     "text": [
      "001898\n",
      "001906\n",
      "002089\n",
      "002097\n"
     ]
    }
   ],
   "source": [
    "j = 0\n",
    "for i in range(len(file_list)):\n",
    "    if file_name[i] != file_name_com[j]:\n",
    "        print(file_name[i])\n",
    "    else:\n",
    "        j+=1\n"
   ]
  }
 ],
 "metadata": {
  "kernelspec": {
   "display_name": "Python 3",
   "language": "python",
   "name": "python3"
  },
  "language_info": {
   "codemirror_mode": {
    "name": "ipython",
    "version": 3
   },
   "file_extension": ".py",
   "mimetype": "text/x-python",
   "name": "python",
   "nbconvert_exporter": "python",
   "pygments_lexer": "ipython3",
   "version": "3.8.5"
  }
 },
 "nbformat": 4,
 "nbformat_minor": 4
}
