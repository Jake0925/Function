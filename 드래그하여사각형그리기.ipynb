{
 "cells": [
  {
   "cell_type": "markdown",
   "metadata": {},
   "source": [
    "## 화면에 마우스를 드래그해여 사각형그리기\n",
    "\n",
    "참조: https://jacegem.github.io/blog/2018/OpenCV-Python-Tutorials-05-%EB%A7%88%EC%9A%B0%EC%8A%A4%EB%A1%9C-%EA%B7%B8%EB%A6%AC%EA%B8%B0/"
   ]
  },
  {
   "cell_type": "code",
   "execution_count": 43,
   "metadata": {},
   "outputs": [],
   "source": [
    "import cv2\n",
    "import numpy as np\n",
    "\n",
    "imgFile =\"111.jpg\"\n",
    "\n",
    "drawing = False  # True 이면 마우스가 눌린 상태입니다.\n",
    "mode = True  # True이면 사각형을 그립니다. 'm'을 누르면 곡선으로 변경(토글)됩니다 \n",
    "oldx, oldy, width, height = 10,10,10,10 \n",
    "\n",
    "# 마우스 콜백 함수\n",
    "def mouse_callback(event, x, y, flags, param):\n",
    "    global oldx, oldy, width, height # 함수가 종료되더라도 전역변수처럼 값이 유지된다\n",
    "    \n",
    "    # 마우스 왼쪽버튼 누른경우\n",
    "    if event == cv2.EVENT_LBUTTONDOWN:\n",
    "        oldx, oldy = x, y\n",
    "    \n",
    "    # 마우스 이동중인 경우\n",
    "    elif event == cv2.EVENT_MOUSEMOVE:\n",
    "        if flags & cv2.EVENT_FLAG_LBUTTON: # ==를 쓰면 다른 키도 입력되었을 때 작동안하므로 &(and) 사용\n",
    "            img = cv2.imread(imgFile)  # 원본이미지를 호출함으로서 그렸던 도형자국을 지운다\n",
    "            cv2.rectangle(img, (oldx, oldy), (x, y), (0, 255, 0), 1)\n",
    "            #cv2.rectangle(img, (oldx, oldy), (x, y), (0, 255, 0), -1) # 사각형안을 채워 그리기\n",
    "            cv2.imshow('image', img)\n",
    "\n",
    "    # 마우스 버튼을 올린경우\n",
    "    elif event == cv2.EVENT_LBUTTONUP:\n",
    "        width, height = (x-oldx), (y-oldy)\n",
    "        print('EVENT_LBUTTONUP: %d, %d, %d, %d' % (oldx, oldy, width, height)) # 좌표 출력"
   ]
  },
  {
   "cell_type": "code",
   "execution_count": 44,
   "metadata": {},
   "outputs": [
    {
     "name": "stdout",
     "output_type": "stream",
     "text": [
      "EVENT_LBUTTONUP: 122, 20, 92, 101\n",
      "return: 122, 20, 92, 101\n"
     ]
    }
   ],
   "source": [
    "img = cv2.imread(imgFile) \n",
    "cv2.namedWindow('image')\n",
    "cv2.setMouseCallback('image',mouse_callback, img)\n",
    "\n",
    "\n",
    "\n",
    "# 영상 출력\n",
    "cv2.imshow('image', img)\n",
    "\n",
    "cv2.waitKey()\n",
    "print('return: %d, %d, %d, %d' % (oldx, oldy, width, height)) # 좌표 출력\n",
    "\n",
    "cv2.destroyAllWindows()"
   ]
  },
  {
   "cell_type": "code",
   "execution_count": null,
   "metadata": {},
   "outputs": [],
   "source": []
  },
  {
   "cell_type": "code",
   "execution_count": null,
   "metadata": {},
   "outputs": [],
   "source": []
  }
 ],
 "metadata": {
  "kernelspec": {
   "display_name": "Python 3",
   "language": "python",
   "name": "python3"
  },
  "language_info": {
   "codemirror_mode": {
    "name": "ipython",
    "version": 3
   },
   "file_extension": ".py",
   "mimetype": "text/x-python",
   "name": "python",
   "nbconvert_exporter": "python",
   "pygments_lexer": "ipython3",
   "version": "3.8.5"
  }
 },
 "nbformat": 4,
 "nbformat_minor": 4
}
